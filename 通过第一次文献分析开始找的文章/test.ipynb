{
 "cells": [
  {
   "cell_type": "code",
   "execution_count": null,
   "metadata": {},
   "outputs": [],
   "source": [
    "from pyepw.epw import EPW\n",
    "epw = EPW()\n",
    "epw.read(r\"/Users/dong/Downloads/VNM_SVN_Ho.Chi.Minh-Tan.Son.Nhat.Intl.AP.489000_TMYx/VNM_SVN_Ho.Chi.Minh-Tan.Son.Nhat.Intl.AP.489000_TMYx.epw\")"
   ]
  },
  {
   "cell_type": "code",
   "execution_count": 7,
   "metadata": {},
   "outputs": [
    {
     "name": "stdout",
     "output_type": "stream",
     "text": [
      "   year  month  day  hour  minute  \\\n",
      "0  2010      1    1     1      30   \n",
      "1  2010      1    1     2      30   \n",
      "2  2010      1    1     3      30   \n",
      "3  2010      1    1     4      30   \n",
      "4  2010      1    1     5      30   \n",
      "\n",
      "                                    data_source  dry_bulb_temperature  \\\n",
      "0  ?9?9?9?9E0?9?9?9?9?9?9?9?9?9?9?9*9?9*9*9?9*9                  24.0   \n",
      "1  ?9?9?9?9E0?9?9?9?9?9?9?9?9?9?9?9*9?9*9*9?9*9                  24.4   \n",
      "2  ?9?9?9?9E0?9?9?9?9?9?9?9?9?9?9?9*9?9*9*9?9*9                  22.0   \n",
      "3  ?9?9?9?9E0?9?9?9?9?9?9?9?9?9?9?9*9?9*9*9?9*9                  22.0   \n",
      "4  ?9?9?9?9E0?9?9?9?9?9?9?9?9?9?9?9*9?9*9*9?9*9                  22.2   \n",
      "\n",
      "   dew_point_temperature  relative_humidity  atmospheric_pressure  ...  \\\n",
      "0                   21.0                 83                101207  ...   \n",
      "1                   21.4                 83                100893  ...   \n",
      "2                   21.0                 94                101207  ...   \n",
      "3                   22.0                100                101207  ...   \n",
      "4                   22.0                 99                100752  ...   \n",
      "\n",
      "   ceiling_height  present_weather_observation  present_weather_codes  \\\n",
      "0           77777                            9              999999999   \n",
      "1           77777                            9              999999999   \n",
      "2           77777                            9              999999999   \n",
      "3           77777                            9              999999999   \n",
      "4           77777                            9              999999999   \n",
      "\n",
      "   precipitable_water  aerosol_optical_depth  snow_depth  \\\n",
      "0                  78                  0.085           0   \n",
      "1                  81                  0.085           0   \n",
      "2                  78                  0.085           0   \n",
      "3                  87                  0.085           0   \n",
      "4                  86                  0.085           0   \n",
      "\n",
      "   days_since_last_snowfall  albedo  liquid_precipitation_depth  \\\n",
      "0                        88    0.15                         0.0   \n",
      "1                        88    0.15                         0.0   \n",
      "2                        88    0.15                         0.0   \n",
      "3                        88    0.15                         0.0   \n",
      "4                        88    0.15                         0.0   \n",
      "\n",
      "   liquid_precipitation_quantity  \n",
      "0                            0.0  \n",
      "1                            0.0  \n",
      "2                            0.0  \n",
      "3                            0.0  \n",
      "4                            0.0  \n",
      "\n",
      "[5 rows x 35 columns]\n"
     ]
    }
   ],
   "source": [
    "import pandas as pd\n",
    "\n",
    "# Define the column names according to the EPW format\n",
    "column_names = [\"year\", \"month\", \"day\", \"hour\", \"minute\", \n",
    "                \"data_source\", \"dry_bulb_temperature\", \"dew_point_temperature\", \n",
    "                \"relative_humidity\", \"atmospheric_pressure\", \"extraterrestrial_horizontal_radiation\", \n",
    "                \"extraterrestrial_direct_normal_radiation\", \"horizontal_infrared_radiation_intensity_from_sky\", \n",
    "                \"global_horizontal_radiation\", \"direct_normal_radiation\", \"diffuse_horizontal_radiation\", \n",
    "                \"global_horizontal_illuminance\", \"direct_normal_illuminance\", \"diffuse_horizontal_illuminance\", \n",
    "                \"zenith_luminance\", \"wind_direction\", \"wind_speed\", \"total_sky_cover\", \"opaque_sky_cover\", \n",
    "                \"visibility\", \"ceiling_height\", \"present_weather_observation\", \"present_weather_codes\", \n",
    "                \"precipitable_water\", \"aerosol_optical_depth\", \"snow_depth\", \"days_since_last_snowfall\", \n",
    "                \"albedo\", \"liquid_precipitation_depth\", \"liquid_precipitation_quantity\"]\n",
    "\n",
    "# Skip the header of the EPW file, which usually contains metadata\n",
    "df = pd.read_csv(\"/Users/dong/Downloads/VNM_SVN_Ho.Chi.Minh-Tan.Son.Nhat.Intl.AP.489000_TMYx.2007-2021/VNM_SVN_Ho.Chi.Minh-Tan.Son.Nhat.Intl.AP.489000_TMYx.2007-2021.epw\", skiprows=8, header=None, names=column_names)\n",
    "\n",
    "# Now you can access the data\n",
    "print(df.head())\n"
   ]
  },
  {
   "cell_type": "code",
   "execution_count": 10,
   "metadata": {},
   "outputs": [
    {
     "name": "stdout",
     "output_type": "stream",
     "text": [
      "                                                   0\n",
      "0                                           *CLIMATE\n",
      "1  # ascii climate file from VNM_Ho.Chi.Minh-Tan....\n",
      "2  # defined in: .\\EPW_Output\\VNM_SVN_Ho.Chi.Minh...\n",
      "3  # col 1: Diffuse solar on the horizontal (W/m**2)\n",
      "4  # col 2: External dry bulb temperature   (Tent...\n"
     ]
    }
   ],
   "source": [
    "# Attempt to load the .clm file\n",
    "df_clm = pd.read_csv(\"/Users/dong/Downloads/VNM_SVN_Ho.Chi.Minh-Tan.Son.Nhat.Intl.AP.489000_TMYx/VNM_SVN_Ho.Chi.Minh-Tan.Son.Nhat.Intl.AP.489000_TMYx.clm\", sep='\\t', header=None)\n",
    "\n",
    "# Inspect the first few rows to see if it contains temperature data\n",
    "print(df_clm.head())\n"
   ]
  },
  {
   "cell_type": "code",
   "execution_count": 13,
   "metadata": {},
   "outputs": [
    {
     "name": "stdout",
     "output_type": "stream",
     "text": [
      "Index([0], dtype='int64')\n"
     ]
    }
   ],
   "source": [
    "# Check the columns and the first few rows\n",
    "print(df_clm.columns)\n",
    "\n"
   ]
  },
  {
   "cell_type": "code",
   "execution_count": 11,
   "metadata": {},
   "outputs": [],
   "source": [
    "df_clm.to_csv('test2.csv')"
   ]
  },
  {
   "cell_type": "code",
   "execution_count": 8,
   "metadata": {},
   "outputs": [],
   "source": [
    "df.to_csv('test.csv')"
   ]
  },
  {
   "cell_type": "code",
   "execution_count": null,
   "metadata": {},
   "outputs": [],
   "source": [
    "for wd in epw.weatherdata:\n",
    "    print wd.year, wd.month, wd.day, wd.hour, wd.minute, wd.dry_bulb_temperature"
   ]
  },
  {
   "cell_type": "code",
   "execution_count": null,
   "metadata": {},
   "outputs": [],
   "source": [
    "for wd in epw.weatherdata:\n",
    "    wd.dry_bulb_temperature += 1.0"
   ]
  },
  {
   "cell_type": "code",
   "execution_count": null,
   "metadata": {},
   "outputs": [],
   "source": [
    "epw.save(r\"new_file.epw\")"
   ]
  }
 ],
 "metadata": {
  "language_info": {
   "name": "python"
  }
 },
 "nbformat": 4,
 "nbformat_minor": 2
}
